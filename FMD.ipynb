{
 "cells": [
  {
   "cell_type": "code",
   "execution_count": 1,
   "metadata": {},
   "outputs": [],
   "source": [
    "import numpy as np\n",
    "import matplotlib.pyplot as plt\n",
    "from sktime.libs.vmdpy import VMD\n",
    "\n",
    "# 时间轴从0到T\n",
    "T = 1000\n",
    "fs = 1 / T\n",
    "t = np.arange(1, T + 1) / T\n",
    "freqs = 2 * np.pi * (t - 0.5 - fs) / fs\n",
    "\n",
    "# 各信号成分中心频率\n",
    "f_1 = 2\n",
    "f_2 = 24\n",
    "f_3 = 288\n",
    "\n",
    "# 构建各模式信号\n",
    "v_1 = np.cos(2 * np.pi * f_1 * t)\n",
    "v_2 = 1 / 4 * np.cos(2 * np.pi * f_2 * t)\n",
    "v_3 = 1 / 16 * np.cos(2 * np.pi * f_3 * t)\n",
    "\n",
    "# 原始信号，包含三个成分加上随机噪声\n",
    "f = v_1 + v_2 + v_3 + 0.1 * np.random.randn(v_1.size)"
   ]
  },
  {
   "cell_type": "code",
   "execution_count": 2,
   "metadata": {},
   "outputs": [],
   "source": [
    "import numpy as np\n",
    "import matplotlib.pyplot as plt\n",
    "from scipy.signal import firwin, lfilter, correlate, find_peaks\n",
    "import pandas as pd\n",
    " \n",
    " \n",
    "rows = 1000\n",
    "time = np.linspace(0, 1, rows)\n",
    "signal_data =f\n",
    "# signal_df = pd.DataFrame(signal_data, columns=['Signal'])"
   ]
  },
  {
   "cell_type": "code",
   "execution_count": 325,
   "metadata": {},
   "outputs": [],
   "source": [
    "#汉宁窗口初始化FIR滤波器组\n",
    "def initialize_filters(L, K):\n",
    "    filters = []\n",
    "    for k in range(1, K+1):\n",
    "        cutoff = 0.5 / k\n",
    "        filter = firwin(L, cutoff, window='hann')\n",
    "        filters.append(filter)\n",
    "    return filters\n",
    "#自相关普\n",
    "def estimate_period(signal):\n",
    "    correlation = correlate(signal, signal, mode='full')\n",
    "    correlation = correlation[len(correlation) // 2:]\n",
    "    peaks, _ = find_peaks(correlation)\n",
    "    if len(peaks) > 1:\n",
    "        period = peaks[1]\n",
    "    else:\n",
    "        period = len(signal)\n",
    "    return period\n",
    "\n",
    " #FMD函数\n",
    "def fmd(signal, n, L=30, max_iters=10):\n",
    "    K = min(10, max(5, n))\n",
    "    filters = initialize_filters(L, K)\n",
    "    modes = []\n",
    "    signal = signal.values.flatten() if isinstance(signal, pd.DataFrame) else signal.flatten()\n",
    " \n",
    "    for i in range(max_iters):\n",
    "        for filter in filters:\n",
    "            filtered_signal = lfilter(filter, 1.0, signal)\n",
    "            period = estimate_period(filtered_signal)\n",
    "            modes.append(filtered_signal)\n",
    " \n",
    "        if len(modes) >= n:\n",
    "            break\n",
    " \n",
    "    return modes[:n]"
   ]
  },
  {
   "cell_type": "code",
   "execution_count": 3,
   "metadata": {},
   "outputs": [],
   "source": [
    "import pandas  as pd\n",
    "y = np.array(pd.read_csv(\"data/3号机组抽水态健康样本.csv\",encoding=\"GBK\").iloc[:,1])\n"
   ]
  },
  {
   "cell_type": "code",
   "execution_count": 327,
   "metadata": {},
   "outputs": [],
   "source": [
    "modes = fmd(y, 2,max_iters=20)"
   ]
  },
  {
   "cell_type": "code",
   "execution_count": 4,
   "metadata": {},
   "outputs": [],
   "source": [
    "x= y"
   ]
  },
  {
   "cell_type": "code",
   "execution_count": 5,
   "metadata": {},
   "outputs": [],
   "source": [
    "FilterSize = 30\n",
    "CutNum = 7\n",
    "ModeNum = 2\n",
    "MaxIterNum = 20\n",
    "fs = 2e4"
   ]
  },
  {
   "cell_type": "code",
   "execution_count": 6,
   "metadata": {},
   "outputs": [],
   "source": [
    "if FilterSize % 2 == 0:FilterSize += 1 \n",
    "freq_bound = np.linspace(0, 1 - 1 / CutNum, CutNum)\n",
    "temp_filters = np.zeros((FilterSize, CutNum))\n",
    "for n in range(len(freq_bound)):        \n",
    "        temp_filters[:, n] = firwin(FilterSize, [freq_bound[n] + np.finfo(float).eps, freq_bound[n] + 1 / CutNum - np.finfo(float).eps], window='hann')"
   ]
  },
  {
   "cell_type": "code",
   "execution_count": 8,
   "metadata": {},
   "outputs": [
    {
     "data": {
      "text/plain": [
       "(31, 7)"
      ]
     },
     "execution_count": 8,
     "metadata": {},
     "output_type": "execute_result"
    }
   ],
   "source": [
    "temp_filters.shape"
   ]
  },
  {
   "cell_type": "code",
   "execution_count": 9,
   "metadata": {},
   "outputs": [],
   "source": [
    "result = pd.DataFrame(\n",
    "    [[None] * 5 for _ in range(CutNum + 1)],\n",
    "    columns=['IterCount', 'Iterations', 'CorrMatrix', 'ComparedModeNum', 'StopNum']\n",
    ")"
   ]
  },
  {
   "cell_type": "code",
   "execution_count": 24,
   "metadata": {},
   "outputs": [],
   "source": [
    "temp_sig = np.tile(x, (CutNum,1)).T\n",
    "itercount = 2\n",
    "iternum = 2\n",
    "if itercount == 2:iternum = MaxIterNum - (CutNum - ModeNum) * iternum\n",
    "result[itercount, 0] = iternum"
   ]
  },
  {
   "cell_type": "code",
   "execution_count": 25,
   "metadata": {},
   "outputs": [],
   "source": [
    "from scipy.signal import hilbert, lfilter"
   ]
  },
  {
   "cell_type": "code",
   "execution_count": null,
   "metadata": {},
   "outputs": [],
   "source": [
    "def CK(x = None,T = None,M = 2): \n",
    "\n",
    "    \n",
    "    x = np.array(x).flatten()\n",
    "    N = len(x)\n",
    "\n",
    "    x_shift = np.zeros((M + 1,N))\n",
    "    x_shift[0,:] = x\n",
    "\n",
    "    for m in range(M):\n",
    "        if T < N: x_shift[m + 1,T+1:] = x_shift[m,:-T-1]\n",
    "    \n",
    "    # ck = sum(np.prod(x_shift) ** 2) / sum(x ** 2) ** (M + 1)\n",
    "    numerator = np.sum(np.prod(x_shift, axis=0)**2)\n",
    "    denominator = np.sum(x**2)**(M + 1)\n",
    "    ck = numerator / denominator\n",
    "    return ck"
   ]
  },
  {
   "cell_type": "code",
   "execution_count": 27,
   "metadata": {},
   "outputs": [],
   "source": [
    "def TT(y = None,fs = None): \n",
    "    zeroposi = None\n",
    "    import math\n",
    "    NA = np.correlate(y, y, mode='full')\n",
    "    NA = NA[math.ceil(len(NA) / 2)-1:] \n",
    "\n",
    "    sample1 = NA[0]\n",
    "    \n",
    "    for lag in range(1,len(NA)):\n",
    "        sample2 = NA[lag]\n",
    "        if ((sample1 > 0) and (sample2 < 0)):\n",
    "            zeroposi = lag\n",
    "            break\n",
    "        else:\n",
    "            if ((sample1 == 0) or (sample2 == 0)):\n",
    "                zeroposi = lag\n",
    "                break\n",
    "            else:\n",
    "                sample1 = sample2\n",
    "                \n",
    "    NA = NA[zeroposi:]\n",
    "    max_position = np.argmax(NA)\n",
    "    T = zeroposi + max_position+2 #python index start from 0 所以前面两个参数都少了1\n",
    "    return T"
   ]
  },
  {
   "cell_type": "code",
   "execution_count": 28,
   "metadata": {},
   "outputs": [],
   "source": [
    "termIter = 30\n",
    "plotMode = 0\n",
    "M = 3\n",
    "n=3\n",
    "f_init=temp_filters[:,n]\n",
    "x=temp_sig[:, n]\n",
    "xxenvelope = np.abs(hilbert(x)) - np.mean(np.abs(hilbert(x)))\n",
    "T = TT(xxenvelope,fs)\n",
    "T = np.round(T) \n",
    "x = x.flatten()\n",
    "L = f_init.__len__()\n",
    "f_final = f_init\n",
    "N = len(x)\n",
    "XmT = np.zeros((L, N, M+1))\n",
    "\n",
    "for m in range(M+1):\n",
    "    for l in range(L):\n",
    "        if l == 0:\n",
    "            XmT[l, (m*T):,m] = x[:N - m*T]\n",
    "        else:\n",
    "            XmT[l, 1:,m] = XmT[l-1, :-1,m]\n",
    "\n",
    "Xinv = np.linalg.inv(XmT[:, :, 0] @ XmT[:, :, 0].T)\n",
    "f = f_init\n",
    "ck_best = 0\n",
    "y = np.zeros(N)\n",
    "ckIter = []\n",
    "\n",
    "\n",
    "        "
   ]
  },
  {
   "cell_type": "code",
   "execution_count": 14,
   "metadata": {},
   "outputs": [
    {
     "data": {
      "text/plain": [
       "array([68.87514 , 68.500084, 66.843834, ..., 64.68798 , 65.28982 ,\n",
       "       64.31443 ])"
      ]
     },
     "execution_count": 14,
     "metadata": {},
     "output_type": "execute_result"
    }
   ],
   "source": [
    "x"
   ]
  },
  {
   "cell_type": "code",
   "execution_count": 15,
   "metadata": {},
   "outputs": [
    {
     "data": {
      "text/plain": [
       "array([6.0712682 , 5.51219438, 3.88398143, ..., 1.76058773, 2.34314462,\n",
       "       1.46435792])"
      ]
     },
     "execution_count": 15,
     "metadata": {},
     "output_type": "execute_result"
    }
   ],
   "source": [
    "xxenvelope"
   ]
  },
  {
   "cell_type": "code",
   "execution_count": 29,
   "metadata": {},
   "outputs": [
    {
     "data": {
      "text/plain": [
       "3420"
      ]
     },
     "execution_count": 29,
     "metadata": {},
     "output_type": "execute_result"
    }
   ],
   "source": [
    "TT(xxenvelope,fs)"
   ]
  },
  {
   "cell_type": "code",
   "execution_count": 30,
   "metadata": {},
   "outputs": [
    {
     "data": {
      "text/plain": [
       "3420"
      ]
     },
     "execution_count": 30,
     "metadata": {},
     "output_type": "execute_result"
    }
   ],
   "source": [
    "T"
   ]
  },
  {
   "cell_type": "code",
   "execution_count": 36,
   "metadata": {},
   "outputs": [
    {
     "data": {
      "text/plain": [
       "array([[ 0.      ,  0.      ,  0.      , ..., 66.41628 , 65.90673 ,\n",
       "        65.87421 ],\n",
       "       [ 0.      ,  0.      ,  0.      , ..., 65.6868  , 66.41628 ,\n",
       "        65.90673 ],\n",
       "       [ 0.      ,  0.      ,  0.      , ..., 65.953964, 65.6868  ,\n",
       "        66.41628 ],\n",
       "       ...,\n",
       "       [ 0.      ,  0.      ,  0.      , ..., 67.81329 , 66.35974 ,\n",
       "        67.20229 ],\n",
       "       [ 0.      ,  0.      ,  0.      , ..., 66.10892 , 67.81329 ,\n",
       "        66.35974 ],\n",
       "       [ 0.      ,  0.      ,  0.      , ..., 66.68784 , 66.10892 ,\n",
       "        67.81329 ]])"
      ]
     },
     "execution_count": 36,
     "metadata": {},
     "output_type": "execute_result"
    }
   ],
   "source": [
    "XmT[:,:,3]"
   ]
  },
  {
   "cell_type": "code",
   "execution_count": 138,
   "metadata": {},
   "outputs": [],
   "source": [
    "for m in range(M+1):\n",
    "    for l in range(L):\n",
    "        if l == 0:\n",
    "            XmT[l, (m*T):,m] = x[:N - m*T]\n",
    "        else:\n",
    "            XmT[l, 1:,m] = XmT[l-1, :-1,m]"
   ]
  },
  {
   "cell_type": "code",
   "execution_count": 33,
   "metadata": {},
   "outputs": [
    {
     "name": "stdout",
     "output_type": "stream",
     "text": [
      " T:3420\n",
      " N:11040\n",
      " M:3\n",
      " L:31\n"
     ]
    }
   ],
   "source": [
    "print(\" T:{}\\n N:{}\\n M:{}\\n L:{}\".format(T,N,M,L))"
   ]
  },
  {
   "cell_type": "code",
   "execution_count": 18,
   "metadata": {},
   "outputs": [
    {
     "data": {
      "text/plain": [
       "array([68.87514 , 68.500084, 66.843834, ..., 64.68798 , 65.28982 ,\n",
       "       64.31443 ])"
      ]
     },
     "execution_count": 18,
     "metadata": {},
     "output_type": "execute_result"
    }
   ],
   "source": [
    "y"
   ]
  },
  {
   "cell_type": "code",
   "execution_count": 40,
   "metadata": {},
   "outputs": [
    {
     "data": {
      "text/plain": [
       "[3, 4, 5, 6, 7, 8, 9, 10]"
      ]
     },
     "execution_count": 40,
     "metadata": {},
     "output_type": "execute_result"
    }
   ],
   "source": [
    "test =[1,2,3,4,5,6,7,8,9,10]\n",
    "test[1:0]+test[2:]"
   ]
  },
  {
   "cell_type": "code",
   "execution_count": 34,
   "metadata": {},
   "outputs": [],
   "source": [
    "y = (f.T @ XmT[:, :, 0]).T\n",
    "yt = np.zeros((N, M+1))\n",
    "\n",
    "for m in range(M+1):\n",
    "    if m == 0:\n",
    "        yt[:, m] = y\n",
    "    else:\n",
    "        yt[T+1:,m] = yt[:-T-1, m]\n",
    "alpha = np.zeros((N, M+1))\n",
    "\n",
    "for m in range(M + 1):\n",
    "    # 使用 np.prod 计算 yt 在列方向上的乘积，排除第 m+1 列\n",
    "    # 注意：Python 中索引从 0 开始，因此需要相应地调整\n",
    "    prod_columns = np.prod(yt[:, np.r_[0:m, m+2:yt.shape[1]]], axis=1)\n",
    "    # 计算平方并乘以 yt 的第 m+1 列\n",
    "    alpha[:, m] = (prod_columns ** 2) * yt[:, m]"
   ]
  },
  {
   "cell_type": "code",
   "execution_count": 37,
   "metadata": {},
   "outputs": [
    {
     "name": "stderr",
     "output_type": "stream",
     "text": [
      "C:\\Users\\26921\\AppData\\Local\\Temp\\ipykernel_11708\\943637034.py:13: RuntimeWarning: divide by zero encountered in scalar divide\n",
      "  f = np.sum(y**2) / (2 * np.sum(beta**2)) * Xinv @ Xalpha\n",
      "C:\\Users\\26921\\AppData\\Local\\Temp\\ipykernel_11708\\943637034.py:13: RuntimeWarning: invalid value encountered in matmul\n",
      "  f = np.sum(y**2) / (2 * np.sum(beta**2)) * Xinv @ Xalpha\n"
     ]
    }
   ],
   "source": [
    "\n",
    "\n",
    "for m in range(M + 1):\n",
    "    # 使用 np.prod 计算 yt 在列方向上的乘积，排除第 m+1 列\n",
    "    # 注意：Python 中索引从 0 开始，因此需要相应地调整\n",
    "    prod_columns = np.prod(yt[:, np.r_[0:m, m+2:yt.shape[1]]], axis=1)\n",
    "    # 计算平方并乘以 yt 的第 m+1 列\n",
    "    alpha[:, m] = (prod_columns ** 2) * yt[:, m]\n",
    "\n",
    "beta = np.prod(yt, axis=1)\n",
    "Xalpha = np.zeros(L)\n",
    "for m in range(M):\n",
    "    Xalpha += XmT[:, :, m] @ alpha[:, m]\n",
    "\n",
    "f = np.sum(y**2) / (2 * np.sum(beta**2)) * Xinv @ Xalpha\n",
    "f /= np.sqrt(np.sum(f**2))\n",
    "\n",
    "ckIter.append(np.sum(np.prod(yt, axis=1)**2) / np.sum(y**2)**(M+1))\n",
    "\n",
    "if ckIter[-1] > ck_best:\n",
    "    ck_best = ckIter[-1]\n",
    "\n",
    "xyenvelope = np.abs(hilbert(y)) - np.mean(np.abs(hilbert(y)))\n",
    "T = TT(xyenvelope, fs)\n",
    "T = round(T) if T != None else len(xyenvelope)\n",
    "\n",
    "XmT = np.zeros((L, N, M+1))\n",
    "\n",
    "for m in range(M+1):\n",
    "    for l in range(L):\n",
    "        if l == 0:\n",
    "            XmT[l, m*T:,m] = x[:N - m*T]\n",
    "        else:\n",
    "            XmT[l, 1:,m] = XmT[l-1, :-1,m]\n",
    "\n",
    "Xinv = np.linalg.inv(XmT[:, :, 0] @ XmT[:, :, 0].T)\n",
    "\n",
    "y_final = lfilter(f, 1, x)"
   ]
  },
  {
   "cell_type": "code",
   "execution_count": 32,
   "metadata": {},
   "outputs": [],
   "source": [
    "import scipy\n",
    "scipy.io.savemat(\"x.mat\",{\"x\":np.array(y).flatten()})"
   ]
  },
  {
   "cell_type": "code",
   "execution_count": 38,
   "metadata": {},
   "outputs": [
    {
     "name": "stderr",
     "output_type": "stream",
     "text": [
      "C:\\Users\\26921\\AppData\\Local\\Temp\\ipykernel_11708\\2803201350.py:45: RuntimeWarning: divide by zero encountered in scalar divide\n",
      "  f = np.sum(y**2) / (2 * np.sum(beta**2)) * Xinv @ Xalpha\n",
      "C:\\Users\\26921\\AppData\\Local\\Temp\\ipykernel_11708\\2803201350.py:45: RuntimeWarning: invalid value encountered in matmul\n",
      "  f = np.sum(y**2) / (2 * np.sum(beta**2)) * Xinv @ Xalpha\n"
     ]
    },
    {
     "ename": "TypeError",
     "evalue": "unsupported operand type(s) for +: 'NoneType' and 'int'",
     "output_type": "error",
     "traceback": [
      "\u001b[1;31m---------------------------------------------------------------------------\u001b[0m",
      "\u001b[1;31mTypeError\u001b[0m                                 Traceback (most recent call last)",
      "Cell \u001b[1;32mIn[38], line 54\u001b[0m\n\u001b[0;32m     51\u001b[0m     ck_best \u001b[38;5;241m=\u001b[39m ckIter[\u001b[38;5;241m-\u001b[39m\u001b[38;5;241m1\u001b[39m]\n\u001b[0;32m     53\u001b[0m xyenvelope \u001b[38;5;241m=\u001b[39m np\u001b[38;5;241m.\u001b[39mabs(hilbert(y)) \u001b[38;5;241m-\u001b[39m np\u001b[38;5;241m.\u001b[39mmean(np\u001b[38;5;241m.\u001b[39mabs(hilbert(y)))\n\u001b[1;32m---> 54\u001b[0m T \u001b[38;5;241m=\u001b[39m TT(xyenvelope, fs)\n\u001b[0;32m     55\u001b[0m T \u001b[38;5;241m=\u001b[39m \u001b[38;5;28mround\u001b[39m(T) \u001b[38;5;28;01mif\u001b[39;00m T \u001b[38;5;241m!=\u001b[39m \u001b[38;5;28;01mNone\u001b[39;00m \u001b[38;5;28;01melse\u001b[39;00m \u001b[38;5;28mlen\u001b[39m(xyenvelope)\n\u001b[0;32m     57\u001b[0m XmT \u001b[38;5;241m=\u001b[39m np\u001b[38;5;241m.\u001b[39mzeros((L, N, M\u001b[38;5;241m+\u001b[39m\u001b[38;5;241m1\u001b[39m))\n",
      "Cell \u001b[1;32mIn[27], line 23\u001b[0m, in \u001b[0;36mTT\u001b[1;34m(y, fs)\u001b[0m\n\u001b[0;32m     21\u001b[0m NA \u001b[38;5;241m=\u001b[39m NA[zeroposi:]\n\u001b[0;32m     22\u001b[0m max_position \u001b[38;5;241m=\u001b[39m np\u001b[38;5;241m.\u001b[39margmax(NA)\n\u001b[1;32m---> 23\u001b[0m T \u001b[38;5;241m=\u001b[39m zeroposi \u001b[38;5;241m+\u001b[39m max_position\u001b[38;5;241m+\u001b[39m\u001b[38;5;241m2\u001b[39m \u001b[38;5;66;03m#python index start from 0 所以前面两个参数都少了1\u001b[39;00m\n\u001b[0;32m     24\u001b[0m \u001b[38;5;28;01mreturn\u001b[39;00m T\n",
      "\u001b[1;31mTypeError\u001b[0m: unsupported operand type(s) for +: 'NoneType' and 'int'"
     ]
    }
   ],
   "source": [
    "T = TT(xxenvelope,fs)\n",
    "T = round(T) if T != None else len(xyenvelope)\n",
    "x = x.flatten()\n",
    "L = f_init.__len__()\n",
    "f_final = f_init\n",
    "N = len(x)\n",
    "XmT = np.zeros((L, N, M+1))\n",
    "\n",
    "for m in range(M+1):\n",
    "    for l in range(L):\n",
    "        if l == 0:\n",
    "            XmT[l, (m*T):,m] = x[:N - m*T]\n",
    "        else:\n",
    "            XmT[l, 1:,m] = XmT[l-1, :-1,m]\n",
    "\n",
    "Xinv = np.linalg.inv(XmT[:, :, 0] @ XmT[:, :, 0].T)\n",
    "f = f_init\n",
    "ck_best = 0\n",
    "y = np.zeros(N)\n",
    "ckIter = []\n",
    "\n",
    "for _ in range(termIter):\n",
    "        y = (f.T @ XmT[:, :, 0]).T\n",
    "        yt = np.zeros((N, M+1))\n",
    "        \n",
    "        for m in range(M+1):\n",
    "            if m == 0:\n",
    "                yt[:, m] = y\n",
    "            else:\n",
    "                yt[T:,m] = yt[:-T, m]\n",
    "        alpha = np.zeros((N, M+1))\n",
    "\n",
    "        for m in range(M + 1):\n",
    "            # 使用 np.prod 计算 yt 在列方向上的乘积，排除第 m+1 列\n",
    "            # 注意：Python 中索引从 0 开始，因此需要相应地调整\n",
    "            prod_columns = np.prod(yt[:, np.r_[0:m, m+2:yt.shape[1]]], axis=1)\n",
    "            # 计算平方并乘以 yt 的第 m+1 列\n",
    "            alpha[:, m] = (prod_columns ** 2) * yt[:, m]\n",
    "\n",
    "        beta = np.prod(yt, axis=1)\n",
    "        Xalpha = np.zeros(L)\n",
    "        for m in range(M):\n",
    "            Xalpha += XmT[:, :, m] @ alpha[:, m]\n",
    "        \n",
    "        f = np.sum(y**2) / (2 * np.sum(beta**2)) * Xinv @ Xalpha\n",
    "        f /= np.sqrt(np.sum(f**2))\n",
    "\n",
    "        ckIter.append(np.sum(np.prod(yt, axis=1)**2) / np.sum(y**2)**(M+1))\n",
    "        \n",
    "        if ckIter[-1] > ck_best:\n",
    "            ck_best = ckIter[-1]\n",
    "\n",
    "        xyenvelope = np.abs(hilbert(y)) - np.mean(np.abs(hilbert(y)))\n",
    "        T = TT(xyenvelope, fs)\n",
    "        T = round(T) if T != None else len(xyenvelope)\n",
    "\n",
    "        XmT = np.zeros((L, N, M+1))\n",
    "\n",
    "        for m in range(M+1):\n",
    "            for l in range(L):\n",
    "                if l == 0:\n",
    "                    XmT[l, m*T:,m] = x[:N - m*T]\n",
    "                else:\n",
    "                    XmT[l, 1:,m] = XmT[l-1, :-1,m]\n",
    "        \n",
    "        Xinv = np.linalg.inv(XmT[:, :, 0] @ XmT[:, :, 0].T)\n",
    "        \n",
    "        y_final = lfilter(f, 1, x)"
   ]
  },
  {
   "cell_type": "code",
   "execution_count": 126,
   "metadata": {},
   "outputs": [],
   "source": [
    "def xxc_mckd(fs, x, f_init, termIter=None, T=None, M=3, plotMode=0):\n",
    "    # Set default values for parameters\n",
    "    if termIter is None:\n",
    "        termIter = 30\n",
    "    if plotMode is None:\n",
    "        plotMode = 0\n",
    "    if M is None:\n",
    "        M = 3\n",
    "    if T is None:\n",
    "        xxenvelope = abs(hilbert(x)) - np.mean(abs(hilbert(x)))\n",
    "        T = TT(xxenvelope, fs)\n",
    "\n",
    "    T = np.round(T)   \n",
    "    x = x.flatten()\n",
    "    L = f_init.__len__()\n",
    "    N = len(x)\n",
    "\n",
    "    XmT = np.zeros((L, N, M+1))\n",
    "    for m in range(M+1):\n",
    "        for l in range(L):\n",
    "            if l == 0:\n",
    "                XmT[l, (m*T):,m] = x[:N - m*T]\n",
    "            else:\n",
    "                XmT[l, 1:,m] = XmT[l-1, :-1,m]\n",
    "    \n",
    "    Xinv = np.linalg.inv(XmT[:, :, 0] @ XmT[:, :, 0].T)\n",
    "    f = f_init\n",
    "    ck_best = 0\n",
    "    y = np.zeros(N)\n",
    "    ckIter = []\n",
    "\n",
    "    for n in range(termIter):\n",
    "        y = (f.T @ XmT[:, :, 0]).T\n",
    "        yt = np.zeros((N, M))\n",
    "        \n",
    "        for m in range(M):\n",
    "            if m == 0:\n",
    "                yt[:, m] = y\n",
    "            else:\n",
    "                yt[T:] = yt[:-T, m]\n",
    "        alpha = np.zeros((N, M+1))\n",
    "\n",
    "        for m in range(M):\n",
    "            prod_yt = np.prod(yt[:, [i for i in range(M + 1) if i != m]], axis=1) ** 2\n",
    "            alpha[:, m] = prod_yt * yt[:, m]\n",
    "\n",
    "\n",
    "        beta = np.prod(yt, axis=1)\n",
    "        Xalpha = np.zeros(L)\n",
    "        for m in range(M):\n",
    "            Xalpha += XmT[:, :, m] @ alpha[:, m]\n",
    "\n",
    "        f = np.sum(y**2) / (2 * np.sum(beta**2)) * Xinv @ Xalpha\n",
    "        f /= np.sqrt(np.sum(f**2))\n",
    "\n",
    "        ckIter.append(np.sum(np.prod(yt, axis=1)**2) / np.sum(y**2)**(M+1))\n",
    "        \n",
    "        if ckIter[-1] > ck_best:\n",
    "            ck_best = ckIter[-1]\n",
    "\n",
    "        xyenvelope = np.abs(hilbert(y)) - np.mean(np.abs(hilbert(y)))\n",
    "        T = TT(xyenvelope, fs)\n",
    "        T = np.round(T)\n",
    "\n",
    "        XmT = np.zeros((L, N, M+1))\n",
    "        for m in range(M+1):\n",
    "            for l in range(L):\n",
    "                if l == 0:\n",
    "                    XmT[l, m*T:,m] = x[:N - m*T]\n",
    "                else:\n",
    "                    XmT[l, 1:] = XmT[l-1, :-1]\n",
    "        \n",
    "        Xinv = np.linalg.inv(XmT[:, :, 0] @ XmT[:, :, 0].T)\n",
    "        \n",
    "        y_final = lfilter(f, 1, x)\n",
    "    \n",
    "    return y_final, f, ckIter, T"
   ]
  },
  {
   "cell_type": "code",
   "execution_count": null,
   "metadata": {},
   "outputs": [],
   "source": [
    "# from scipy.signal import hilbert, lfilter\n",
    "# def xxc_mckd(fs, x, f_init, termIter=None, T=None, M=3, plotMode=0):\n",
    "#     # Set default values for parameters\n",
    "#     if termIter is None:\n",
    "#         termIter = 30\n",
    "#     if plotMode is None:\n",
    "#         plotMode = 0\n",
    "#     if M is None:\n",
    "#         M = 3\n",
    "#     if T is None:\n",
    "#         xxenvelope = abs(hilbert(x)) - np.mean(abs(hilbert(x)))\n",
    "\n",
    "#     T = round(T)   \n",
    "#     x = x.flatten()\n",
    "#     L = f_init.__len__()\n",
    "#     N = len(x)\n",
    "\n",
    "#     XmT = np.zeros(L,N,M+1)\n",
    "#     for m in range(M+1):\n",
    "#         for l in range(0,L):\n",
    "#             if l ==0:XmT[0,(m*T+1):,m+1] = x[:N-m*T]\n",
    "#             else: XmT[0,1:,m+1] = XmT[l-1,:-1,m+1]\n",
    "#     Xinv = np.linalg.inv(np.dot(XmT[:,:,0],XmT[:,:,0].T))\n",
    "\n",
    "#     f = f_init\n",
    "#     ck_best = 0\n",
    "#     y = np.zeros(N,1)\n",
    "#     b = np.zeros(L,1)\n",
    "#     ckIter = []\n",
    "#     n=0\n",
    "#     f_final = np.array([])\n",
    "\n",
    "#     while n<=termIter:\n",
    "#         y = (np.dot(f.T,XmT[:,:,0])).T\n",
    "\n",
    "#         yt = np.zeros(N,M)\n",
    "#         f_final[:,1] = f\n",
    "#         for m in range(M):\n",
    "#             if m == 0: yt[:,m+1] =y\n",
    "#             else: yt[T+1:,m+1] = yt[:-T,m]\n",
    "\n",
    "#         alpha = np.zeros((N, M + 1))\n",
    "\n",
    "#         for m in range(M+1):\n",
    "#             prod_yt = np.prod(yt[:, [i for i in range(M + 1) if i != m]], axis=1) ** 2\n",
    "#             alpha[:, m] = prod_yt * yt[:, m]\n",
    "\n",
    "#         beta = np.prod(yt, 2)\n",
    "\n",
    "#         Xalpha = np.zeros(L, 1)\n",
    "\n",
    "#         for m in range(M+1):\n",
    "#             Xalpha += XmT[:, :, m] @ alpha[:, m][:, np.newaxis]\n",
    "\n",
    "#         f= np.sum(y**2)/(2*sum(beta**2))*Xinv @ Xalpha\n",
    "#         f = f/np.sqrt(sum(f**2))\n",
    "#         ckIter[n] = sum(np.prod(yt,2)**2)/(sum(y**2)**(M+1))\n",
    "#         if ckIter>ck_best:ck_best=ckIter[n]\n",
    "\n",
    "#         #-------------------------------------------------\n",
    "#         xyenvelope = abs(hilbert(y)) - np.mean(abs(hilbert(y)))\n",
    "#         T = TT(xyenvelope,fs)\n",
    "#         T = round(T)\n",
    "#         T_final = T\n",
    "\n",
    "#         XmT = np.zeros(L,N,M+1)\n",
    "#         for m in range(M+1):\n",
    "#             for l in range(L):\n",
    "#                 if l == 0 : XmT[0,(m*T+1):]\n"
   ]
  },
  {
   "cell_type": "code",
   "execution_count": 127,
   "metadata": {},
   "outputs": [
    {
     "ename": "IndexError",
     "evalue": "index 1 is out of bounds for axis 1 with size 1",
     "output_type": "error",
     "traceback": [
      "\u001b[1;31m---------------------------------------------------------------------------\u001b[0m",
      "\u001b[1;31mIndexError\u001b[0m                                Traceback (most recent call last)",
      "Cell \u001b[1;32mIn[127], line 3\u001b[0m\n\u001b[0;32m      1\u001b[0m \u001b[38;5;28;01mfor\u001b[39;00m n \u001b[38;5;129;01min\u001b[39;00m \u001b[38;5;28mrange\u001b[39m(temp_filters\u001b[38;5;241m.\u001b[39mshape[\u001b[38;5;241m1\u001b[39m]):\n\u001b[0;32m      2\u001b[0m     f_init \u001b[38;5;241m=\u001b[39m temp_filters[:,n]\n\u001b[1;32m----> 3\u001b[0m     y_Iter, f_Iter, k_Iter, T_Iter \u001b[38;5;241m=\u001b[39m xxc_mckd(fs, temp_sig[:, n], f_init, iternum, \u001b[38;5;28;01mNone\u001b[39;00m, \u001b[38;5;241m1\u001b[39m, \u001b[38;5;241m0\u001b[39m)\n",
      "Cell \u001b[1;32mIn[126], line 44\u001b[0m, in \u001b[0;36mxxc_mckd\u001b[1;34m(fs, x, f_init, termIter, T, M, plotMode)\u001b[0m\n\u001b[0;32m     41\u001b[0m alpha \u001b[38;5;241m=\u001b[39m np\u001b[38;5;241m.\u001b[39mzeros((N, M\u001b[38;5;241m+\u001b[39m\u001b[38;5;241m1\u001b[39m))\n\u001b[0;32m     43\u001b[0m \u001b[38;5;28;01mfor\u001b[39;00m m \u001b[38;5;129;01min\u001b[39;00m \u001b[38;5;28mrange\u001b[39m(M):\n\u001b[1;32m---> 44\u001b[0m     prod_yt \u001b[38;5;241m=\u001b[39m np\u001b[38;5;241m.\u001b[39mprod(yt[:, [i \u001b[38;5;28;01mfor\u001b[39;00m i \u001b[38;5;129;01min\u001b[39;00m \u001b[38;5;28mrange\u001b[39m(M \u001b[38;5;241m+\u001b[39m \u001b[38;5;241m1\u001b[39m) \u001b[38;5;28;01mif\u001b[39;00m i \u001b[38;5;241m!=\u001b[39m m]], axis\u001b[38;5;241m=\u001b[39m\u001b[38;5;241m1\u001b[39m) \u001b[38;5;241m*\u001b[39m\u001b[38;5;241m*\u001b[39m \u001b[38;5;241m2\u001b[39m\n\u001b[0;32m     45\u001b[0m     alpha[:, m] \u001b[38;5;241m=\u001b[39m prod_yt \u001b[38;5;241m*\u001b[39m yt[:, m]\n\u001b[0;32m     48\u001b[0m beta \u001b[38;5;241m=\u001b[39m np\u001b[38;5;241m.\u001b[39mprod(yt, axis\u001b[38;5;241m=\u001b[39m\u001b[38;5;241m1\u001b[39m)\n",
      "\u001b[1;31mIndexError\u001b[0m: index 1 is out of bounds for axis 1 with size 1"
     ]
    }
   ],
   "source": [
    "for n in range(temp_filters.shape[1]):\n",
    "    f_init = temp_filters[:,n]\n",
    "    y_Iter, f_Iter, k_Iter, T_Iter = xxc_mckd(fs, temp_sig[:, n], f_init, iternum, None, 1, 0)\n"
   ]
  },
  {
   "cell_type": "code",
   "execution_count": null,
   "metadata": {},
   "outputs": [],
   "source": [
    "\n",
    "while True:\n",
    "        iternum = 2\n",
    "        if itercount == 2:\n",
    "            iternum = MaxIterNum - (CutNum - ModeNum) * iternum\n",
    "\n",
    "        result[itercount][0] = iternum\n",
    "\n",
    "        for n in range(temp_filters.shape[1]):\n",
    "              f_init = temp_filters[:,n]\n",
    "              y_Iter, f_Iter, k_Iter, T_Iter = xxc_mckd(fs, temp_sig[:, n], f_init, iternum, [], 1, 0)\n",
    "\n",
    "              result[itercount].append({\n",
    "                'y_Iter': y_Iter[:, -1],\n",
    "                'f_Iter': f_Iter[:, -1],\n",
    "                'k_Iter': k_Iter[:, -1],\n",
    "                'fft_f_Iter': np.abs(np.fft.fft(f_Iter))[:FilterSize // 2],\n",
    "                'frequency': np.argmax(np.abs(np.fft.fft(f_Iter))) * (fs / FilterSize),\n",
    "                'T_Iter': T_Iter\n",
    "            })"
   ]
  },
  {
   "cell_type": "code",
   "execution_count": 63,
   "metadata": {},
   "outputs": [
    {
     "data": {
      "text/plain": [
       "array([[68.87514 , 68.500084, 66.843834, ..., 64.68798 , 65.28982 ,\n",
       "        64.31443 ]])"
      ]
     },
     "execution_count": 63,
     "metadata": {},
     "output_type": "execute_result"
    }
   ],
   "source": [
    "temp_sig"
   ]
  },
  {
   "cell_type": "code",
   "execution_count": null,
   "metadata": {},
   "outputs": [
    {
     "ename": "SyntaxError",
     "evalue": "incomplete input (2313080685.py, line 16)",
     "output_type": "error",
     "traceback": [
      "\u001b[1;36m  Cell \u001b[1;32mIn[21], line 16\u001b[1;36m\u001b[0m\n\u001b[1;33m    \u001b[0m\n\u001b[1;37m    ^\u001b[0m\n\u001b[1;31mSyntaxError\u001b[0m\u001b[1;31m:\u001b[0m incomplete input\n"
     ]
    }
   ],
   "source": [
    "def FMD(fs,x,FilterSize,CutNum,ModeNum,MaxIterNum):\n",
    "    '''\"\n",
    "    fs: 信号 x 的采样频率。\n",
    "    x: 待分析的信号。\n",
    "    FilterSize: 用于分解过程中的滤波器大小。\n",
    "    CutNum: 将整个频率范围分成的频带数。\n",
    "    ModeNum: 最终保留的模态数。\n",
    "    MaxIterNum: 最大迭代次数。\n",
    "\n",
    "    '''\n",
    "    #Initialization\n",
    "    freq_bound = np.arange(0, 1, 1 / CutNum)\n",
    "    temp_filters = np.zeros((FilterSize, CutNum))\n",
    "\n",
    "    for n in range(len(freq_bound)):\n",
    "        eps = np.finfo(float).eps\n",
    "        b = firwin(FilterSize - 1, [freq_bound[n] + eps, freq_bound[n] + 1 / CutNum - eps])\n",
    "        temp_filters[:, n] = b\n"
   ]
  }
 ],
 "metadata": {
  "kernelspec": {
   "display_name": "base",
   "language": "python",
   "name": "python3"
  },
  "language_info": {
   "codemirror_mode": {
    "name": "ipython",
    "version": 3
   },
   "file_extension": ".py",
   "mimetype": "text/x-python",
   "name": "python",
   "nbconvert_exporter": "python",
   "pygments_lexer": "ipython3",
   "version": "3.12.4"
  }
 },
 "nbformat": 4,
 "nbformat_minor": 2
}
