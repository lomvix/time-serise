{
 "cells": [
  {
   "cell_type": "markdown",
   "metadata": {},
   "source": [
    "reference:\n",
    "> Feature Mode Decomposition: New Decomposition Theory for Rotating Machinery\n",
    " Fault Diagnosis"
   ]
  },
  {
   "cell_type": "markdown",
   "metadata": {},
   "source": [
    "Flow diagram of FMD  \n",
    "\n",
    "1. load raw signal ```x```, Iput decomposed mode number ```n```, filter length ```L```\n",
    "\n",
    "2. Initialize FIR filter band with ```K``` filters and start iteration ```i=1```\n",
    "\n",
    "3. Obtain filtered signal or decomposed mode  $u_k^i$   ```Node 3```\n",
    "\n",
    "4. Period Estimation \n",
    "    + compute autocorrelation $R_k^i$ of decomposed mode $u_k^i$\n",
    "    + find the local maximum value of $R_k^i$ to get estimated periode $T_k^i$\n",
    "\n"
   ]
  },
  {
   "cell_type": "code",
   "execution_count": 2,
   "metadata": {},
   "outputs": [],
   "source": [
    "import numpy as np\n",
    "import matplotlib.pyplot as plt\n",
    "from scipy.signal import firwin, lfilter, correlate, find_peaks,hilbert\n",
    "import pandas as pd"
   ]
  },
  {
   "cell_type": "code",
   "execution_count": 3,
   "metadata": {},
   "outputs": [],
   "source": [
    "FilterSize = 30 # filter length L\n",
    "CutNum = 7 #the cut number of the whole frequency band\n",
    "ModeNum = 2 #the final mode number\n",
    "MaxIterNum = 20 # max iteration number\n",
    "fs = 2e4 #sampling frequency of x\n",
    "signal_x = np.array(pd.read_csv(\"data/3号机组抽水态健康样本.csv\",encoding=\"GBK\").iloc[:,1])\n",
    "\n"
   ]
  },
  {
   "cell_type": "code",
   "execution_count": null,
   "metadata": {},
   "outputs": [
    {
     "data": {
      "text/plain": [
       "array([6.0712682 , 5.51219438, 3.88398143, ..., 1.76058773, 2.34314462,\n",
       "       1.46435792])"
      ]
     },
     "execution_count": 4,
     "metadata": {},
     "output_type": "execute_result"
    }
   ],
   "source": []
  },
  {
   "cell_type": "code",
   "execution_count": null,
   "metadata": {},
   "outputs": [],
   "source": [
    "class FMD_reconsitution():\n",
    "\n",
    "    def __init__(self, FilterSize, CutNum,ModeNum,MaxIterNum,fs=None):\n",
    "        \n",
    "        self.FilterSize = FilterSize\n",
    "        self.CutNum= CutNum\n",
    "        self.ModeNum = ModeNum\n",
    "        self.MaxIterNum =MaxIterNum\n",
    "        self.fs = 2e4 if fs ==None else fs\n",
    "\n",
    "    def initialize_filters(self,L, K):\n",
    "        \n",
    "        filters = []\n",
    "        K = self.CutNum\n",
    "        eps = np.finfo(float).eps\n",
    "        freq_bound = np.arange(0, 1, 1 / K)\n",
    "        L= self.FilterSize\n",
    "        filters = [\n",
    "            firwin(FilterSize, [freq_bound[n] + eps, freq_bound[n] + 1 / CutNum - eps],w=\"hann\")\n",
    "            for n in range(len(freq_bound))\n",
    "        ]\n",
    "        \n",
    "        return filters\n",
    "    \n",
    "    def result_initialization(self):\n",
    "        \n",
    "        result = pd.DataFrame(\n",
    "            [[None] * 5 for _ in range(self.CutNum + 1)],\n",
    "            columns=['IterCount', 'Iterations', 'CorrMatrix', 'ComparedModeNum', 'StopNum']\n",
    "        )\n",
    "        \n",
    "        return result\n",
    "    \n",
    "    def update_FIR(self,signal,filters):\n",
    "\n",
    "        updated_filters = []\n",
    "        for f in filters:\n",
    "            period = self.estimate_period(np.convolve(signal, f, mode='same'))\n",
    "            low_cutoff = max(0, 1 / period - 0.1)\n",
    "            high_cutoff = min(0.5, 1 / period + 0.1)\n",
    "            updated_filters.append(firwin(len(f), [low_cutoff, high_cutoff], pass_zero=False, window='hann'))\n",
    "        \n",
    "        return updated_filters\n",
    "   \n",
    "    def T_estimated(self,signal_x):\n",
    "\n",
    "        u = np.abs(hilbert(signal_x)) - np.mean(np.abs(hilbert(signal_x)))\n",
    "        \n",
    "        return np.argmax(np.correlate(u,u,\"full\")[int(len(u)//2):])\n",
    "        # return np.correlate(u,u,\"full\")[int(len(u)//2):]\n",
    "\n",
    "\n",
    "    def CK(self,x = None,T = None,M = 2): \n",
    "\n",
    "        x = np.array(x).flatten()\n",
    "        N = len(x)\n",
    "\n",
    "        x_shift = np.zeros((M + 1,N))\n",
    "        x_shift[0,:] = x\n",
    "\n",
    "        for m in range(M):\n",
    "            if T < N: x_shift[m + 1,T+1:] = x_shift[m,:-T-1]\n",
    "        \n",
    "        numerator = np.sum(np.prod(x_shift, axis=0)**2)\n",
    "        denominator = np.sum(x**2)**(M + 1)\n",
    "        ck = numerator / denominator\n",
    "        return ck\n",
    "\n",
    "    def estimate_period(self,x):\n",
    "        \n",
    "        signal = x\n",
    "        correlation = correlate(signal, signal, mode='full')\n",
    "        correlation = correlation[len(correlation) // 2:]\n",
    "        peaks, _ = find_peaks(correlation)\n",
    "        if len(peaks) > 1:\n",
    "            period = peaks[1]\n",
    "        else:\n",
    "            period = len(signal)\n",
    "        \n",
    "        return period\n",
    "    \n",
    "    def decompose_modes(x, filters):\n",
    "        modes = []\n",
    "        for filt in filters:\n",
    "            # 对信号x应用每个滤波器\n",
    "            mode = lfilter(filt, [1.0], x)\n",
    "            modes.append(mode)\n",
    "        return modes\n",
    "\n",
    "    def processing(self,signal_x):\n",
    "        x = signal_x\n",
    "        if self.FilterSize % 2 == 0:self.FilterSize += 1  \n",
    "        temp_filters = self.initialize_filters()\n",
    "        result = self.result_initialization()\n",
    "\n",
    "        Final_Mode = None\n",
    "        return Final_Mode"
   ]
  },
  {
   "cell_type": "code",
   "execution_count": 11,
   "metadata": {},
   "outputs": [],
   "source": [
    "NA=FMD_reconsitution(\n",
    "    FilterSize=FilterSize,\n",
    "    CutNum=CutNum,\n",
    "    ModeNum=ModeNum,\n",
    "    fs=None,\n",
    "    MaxIterNum =MaxIterNum\n",
    ").T_estimated(np.abs(hilbert(signal_x)) - np.mean(np.abs(hilbert(signal_x))))"
   ]
  },
  {
   "cell_type": "code",
   "execution_count": 17,
   "metadata": {},
   "outputs": [
    {
     "data": {
      "text/plain": [
       "True"
      ]
     },
     "execution_count": 17,
     "metadata": {},
     "output_type": "execute_result"
    }
   ],
   "source": [
    "all(x<y for x,y in zip([i for i in range(5)],[i for i in range(1,6)]))"
   ]
  },
  {
   "cell_type": "code",
   "execution_count": null,
   "metadata": {},
   "outputs": [
    {
     "data": {
      "text/plain": [
       "False"
      ]
     },
     "execution_count": 16,
     "metadata": {},
     "output_type": "execute_result"
    }
   ],
   "source": [
    "all(x<y for x,y in zip(NA,NA[1:]))"
   ]
  },
  {
   "cell_type": "code",
   "execution_count": 20,
   "metadata": {},
   "outputs": [
    {
     "data": {
      "text/plain": [
       "array([-0.00000000e+00,  1.94937430e-04,  8.32285435e-04, -1.99585495e-03,\n",
       "       -3.78011247e-03,  6.29867633e-03,  9.69988804e-03, -1.41958342e-02,\n",
       "       -2.01189868e-02,  2.80411933e-02,  3.90514578e-02, -5.55093872e-02,\n",
       "       -8.36052042e-02,  1.46155507e-01,  4.48931435e-01,  4.48931435e-01,\n",
       "        1.46155507e-01, -8.36052042e-02, -5.55093872e-02,  3.90514578e-02,\n",
       "        2.80411933e-02, -2.01189868e-02, -1.41958342e-02,  9.69988804e-03,\n",
       "        6.29867633e-03, -3.78011247e-03, -1.99585495e-03,  8.32285435e-04,\n",
       "        1.94937430e-04, -0.00000000e+00])"
      ]
     },
     "execution_count": 20,
     "metadata": {},
     "output_type": "execute_result"
    }
   ],
   "source": [
    "FMD_reconsitution(\n",
    "    FilterSize=FilterSize,\n",
    "    CutNum=CutNum,\n",
    "    ModeNum=ModeNum,\n",
    "    fs=None,\n",
    "    MaxIterNum =MaxIterNum\n",
    ").initialize_filters(FilterSize,CutNum)[0]"
   ]
  },
  {
   "cell_type": "code",
   "execution_count": 21,
   "metadata": {},
   "outputs": [
    {
     "data": {
      "text/html": [
       "<div>\n",
       "<style scoped>\n",
       "    .dataframe tbody tr th:only-of-type {\n",
       "        vertical-align: middle;\n",
       "    }\n",
       "\n",
       "    .dataframe tbody tr th {\n",
       "        vertical-align: top;\n",
       "    }\n",
       "\n",
       "    .dataframe thead th {\n",
       "        text-align: right;\n",
       "    }\n",
       "</style>\n",
       "<table border=\"1\" class=\"dataframe\">\n",
       "  <thead>\n",
       "    <tr style=\"text-align: right;\">\n",
       "      <th></th>\n",
       "      <th>IterCount</th>\n",
       "      <th>Iterations</th>\n",
       "      <th>CorrMatrix</th>\n",
       "      <th>ComparedModeNum</th>\n",
       "      <th>StopNum</th>\n",
       "    </tr>\n",
       "  </thead>\n",
       "  <tbody>\n",
       "    <tr>\n",
       "      <th>0</th>\n",
       "      <td>None</td>\n",
       "      <td>None</td>\n",
       "      <td>None</td>\n",
       "      <td>None</td>\n",
       "      <td>None</td>\n",
       "    </tr>\n",
       "    <tr>\n",
       "      <th>1</th>\n",
       "      <td>None</td>\n",
       "      <td>None</td>\n",
       "      <td>None</td>\n",
       "      <td>None</td>\n",
       "      <td>None</td>\n",
       "    </tr>\n",
       "    <tr>\n",
       "      <th>2</th>\n",
       "      <td>None</td>\n",
       "      <td>None</td>\n",
       "      <td>None</td>\n",
       "      <td>None</td>\n",
       "      <td>None</td>\n",
       "    </tr>\n",
       "    <tr>\n",
       "      <th>3</th>\n",
       "      <td>None</td>\n",
       "      <td>None</td>\n",
       "      <td>None</td>\n",
       "      <td>None</td>\n",
       "      <td>None</td>\n",
       "    </tr>\n",
       "    <tr>\n",
       "      <th>4</th>\n",
       "      <td>None</td>\n",
       "      <td>None</td>\n",
       "      <td>None</td>\n",
       "      <td>None</td>\n",
       "      <td>None</td>\n",
       "    </tr>\n",
       "    <tr>\n",
       "      <th>5</th>\n",
       "      <td>None</td>\n",
       "      <td>None</td>\n",
       "      <td>None</td>\n",
       "      <td>None</td>\n",
       "      <td>None</td>\n",
       "    </tr>\n",
       "    <tr>\n",
       "      <th>6</th>\n",
       "      <td>None</td>\n",
       "      <td>None</td>\n",
       "      <td>None</td>\n",
       "      <td>None</td>\n",
       "      <td>None</td>\n",
       "    </tr>\n",
       "    <tr>\n",
       "      <th>7</th>\n",
       "      <td>None</td>\n",
       "      <td>None</td>\n",
       "      <td>None</td>\n",
       "      <td>None</td>\n",
       "      <td>None</td>\n",
       "    </tr>\n",
       "  </tbody>\n",
       "</table>\n",
       "</div>"
      ],
      "text/plain": [
       "  IterCount Iterations CorrMatrix ComparedModeNum StopNum\n",
       "0      None       None       None            None    None\n",
       "1      None       None       None            None    None\n",
       "2      None       None       None            None    None\n",
       "3      None       None       None            None    None\n",
       "4      None       None       None            None    None\n",
       "5      None       None       None            None    None\n",
       "6      None       None       None            None    None\n",
       "7      None       None       None            None    None"
      ]
     },
     "execution_count": 21,
     "metadata": {},
     "output_type": "execute_result"
    }
   ],
   "source": [
    "FMD_reconsitution(\n",
    "    FilterSize=FilterSize,\n",
    "    CutNum=CutNum,\n",
    "    ModeNum=ModeNum,\n",
    "    fs=None,\n",
    "    MaxIterNum =MaxIterNum\n",
    ").result_initialization()"
   ]
  },
  {
   "cell_type": "code",
   "execution_count": null,
   "metadata": {},
   "outputs": [],
   "source": [
    "#汉宁窗口初始化FIR滤波器组\n",
    "def initialize_filters(L, K):\n",
    "    filters = []\n",
    "    for k in range(1, K+1):\n",
    "        cutoff = 0.5 / k\n",
    "        filter = firwin(L, cutoff, window='hann')\n",
    "        filters.append(filter)\n",
    "    return filters\n",
    "#自相关普\n",
    "def estimate_period(signal):\n",
    "    correlation = correlate(signal, signal, mode='full')\n",
    "    correlation = correlation[len(correlation) // 2:]\n",
    "    peaks, _ = find_peaks(correlation)\n",
    "    if len(peaks) > 1:\n",
    "        period = peaks[1]\n",
    "    else:\n",
    "        period = len(signal)\n",
    "    return period\n",
    "\n",
    " #FMD函数\n",
    "def fmd(signal, n, L=30, max_iters=10):\n",
    "    K = min(10, max(5, n))\n",
    "    filters = initialize_filters(L, K)\n",
    "    modes = []\n",
    "    signal = signal.values.flatten() if isinstance(signal, pd.DataFrame) else signal.flatten()\n",
    " \n",
    "    for i in range(max_iters):\n",
    "        for filter in filters:\n",
    "            filtered_signal = lfilter(filter, 1.0, signal)\n",
    "            period = estimate_period(filtered_signal)\n",
    "            modes.append(filtered_signal)\n",
    " \n",
    "        if len(modes) >= n:\n",
    "            break\n",
    " \n",
    "    return modes[:n]"
   ]
  }
 ],
 "metadata": {
  "kernelspec": {
   "display_name": "base",
   "language": "python",
   "name": "python3"
  },
  "language_info": {
   "codemirror_mode": {
    "name": "ipython",
    "version": 3
   },
   "file_extension": ".py",
   "mimetype": "text/x-python",
   "name": "python",
   "nbconvert_exporter": "python",
   "pygments_lexer": "ipython3",
   "version": "3.12.4"
  }
 },
 "nbformat": 4,
 "nbformat_minor": 2
}
